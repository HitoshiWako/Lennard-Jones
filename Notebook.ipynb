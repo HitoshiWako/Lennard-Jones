{
 "cells": [
  {
   "cell_type": "code",
   "execution_count": null,
   "metadata": {},
   "outputs": [],
   "source": [
    "using Plots"
   ]
  },
  {
   "cell_type": "markdown",
   "metadata": {},
   "source": [
    "# レナードジョーンズポテンシャル\n",
    "$$\n",
    "U(r) = 4\\epsilon\\left[\\left(\\frac{\\sigma}{r}\\right)^p-\\left(\\frac{\\sigma}{r}\\right)^q\\right]\n",
    "$$"
   ]
  },
  {
   "cell_type": "code",
   "execution_count": null,
   "metadata": {},
   "outputs": [],
   "source": [
    "potential(r,ϵ,σ,p=12,q=6)=4ϵ*((σ/r)^p - (σ/r)^q)"
   ]
  },
  {
   "cell_type": "markdown",
   "metadata": {},
   "source": [
    "### 希ガス分子に対するLennard-Jones パラメータ\n",
    "\n",
    "|  | $\\sigma$[nm] | $\\epsilon$[J] | $\\epsilon/k_{B}$[K] | m [kg] |\n",
    "|:---:|:---:|:---:|:---:| :---:|\n",
    "| Ne | 0.274 | $0.50 \\times 10^{-21}$ | 36.2 |  \n",
    "| Ar | 0.340 | $1.67 \\times 10^{-21}$ | 121 |$6.634 \\times 10^{-26}$|   \n",
    "| Kr | 0.365 | $2.25 \\times 10^{-21}$ | 163 |\n",
    "| Xe | 0.398 | $3.20 \\times 10^{-21}$ | 232 |  "
   ]
  },
  {
   "cell_type": "code",
   "execution_count": null,
   "metadata": {},
   "outputs": [],
   "source": [
    "ϵ = 1.67\n",
    "σ = 0.34\n",
    "m = 6.63e-3"
   ]
  },
  {
   "cell_type": "code",
   "execution_count": null,
   "metadata": {},
   "outputs": [],
   "source": [
    "rs = .33:0.005:0.8\n",
    "plot(rs,potential.(rs,ϵ,σ),title=\"Lennard Jones Potential\",xlabel=\"distance[nm]\",ylabel=\"Energy[zJ]\")"
   ]
  },
  {
   "cell_type": "markdown",
   "metadata": {},
   "source": [
    "加わる力は\n",
    "$$\n",
    "F(r) = -\\frac{d}{dr}U(r) = 4\\epsilon\\left(p\\frac{\\sigma^{p}}{r^{p+1}}-q\\frac{\\sigma^{q}}{r^{q+1}}\\right)\n",
    "$$"
   ]
  },
  {
   "cell_type": "code",
   "execution_count": null,
   "metadata": {},
   "outputs": [],
   "source": [
    "force(r,ϵ,σ,p=12,q=6)=4ϵ/r*(p*(σ/r)^p - q*(σ/r)^q)"
   ]
  },
  {
   "cell_type": "markdown",
   "metadata": {},
   "source": [
    "# 速度Verlet\n",
    "$$\n",
    "a(t) = \\frac{F(r(t))}{m} \\\\\n",
    "r(t+\\Delta t) = r(t) + v(t)\\Delta t + \\frac{1}{2}a(t)\\Delta t^{2} \\\\\n",
    "v(t+\\Delta t) = v(t) + \\frac{a(t)+a(t+\\Delta t)}{2}\\Delta t\n",
    "$$"
   ]
  },
  {
   "cell_type": "code",
   "execution_count": null,
   "metadata": {},
   "outputs": [],
   "source": [
    "function verlet(r,v,Δt,n,acc)\n",
    "    rs = []\n",
    "    vs = []\n",
    "    a = acc(r)\n",
    "    for i = 0:n\n",
    "        push!(rs,r)\n",
    "        r = r + v*Δt + a/2*Δt^2\n",
    "        a_next = acc(r)\n",
    "        v = v + (a + a_next)*Δt\n",
    "        a = a_next\n",
    "    end\n",
    "    return rs,vs\n",
    "end"
   ]
  },
  {
   "cell_type": "code",
   "execution_count": null,
   "metadata": {},
   "outputs": [],
   "source": [
    "acc(r) = force(r,ϵ,σ)/m\n",
    "\n",
    "n = 1e6\n",
    "Δt = 1e-6\n",
    "samp = 1000\n",
    "r = 0.7\n",
    "v = 0\n",
    "\n",
    "rs,vs = verlet(r,v,Δt,n,acc)\n",
    "rs = [rs[i] for i= 1:length(rs) if i%samp == 1]\n",
    "plot( [0:Δt*samp:n*Δt;], rs,xlabel=\"Time[ns]\",ylabel=\"Distance[nm]\")"
   ]
  },
  {
   "cell_type": "code",
   "execution_count": null,
   "metadata": {},
   "outputs": [],
   "source": [
    "xs = .3:0.01:0.8\n",
    "anim = Animation()\n",
    "for r in rs\n",
    "    plt = plot(xs,potential.(xs,ϵ,σ),title=\"Lennard Jones Potential\",xlabel=\"distance[nm]\",ylabel=\"Energy[zJ]\",label=\"\")\n",
    "    plt = plot!([r],[potential(r,ϵ,σ)],st=:scatter,xlims=(0.3,0.8),ylims=(-2.0,2.0),label=\"\")\n",
    "    frame(anim,plt)\n",
    "end\n",
    "gif(anim,\"single_LJ.gif\",fps=30)"
   ]
  }
 ],
 "metadata": {
  "kernelspec": {
   "display_name": "Julia 1.10.5",
   "language": "julia",
   "name": "julia-1.10"
  },
  "language_info": {
   "file_extension": ".jl",
   "mimetype": "application/julia",
   "name": "julia",
   "version": "1.10.5"
  }
 },
 "nbformat": 4,
 "nbformat_minor": 2
}
