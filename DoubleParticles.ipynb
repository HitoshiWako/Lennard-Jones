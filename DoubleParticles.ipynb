{
 "cells": [
  {
   "cell_type": "code",
   "execution_count": null,
   "metadata": {},
   "outputs": [],
   "source": [
    "using Revise\n",
    "using Plots"
   ]
  },
  {
   "cell_type": "markdown",
   "metadata": {},
   "source": [
    "# レナードジョーンズポテンシャル\n",
    "$$\n",
    "U(r) = 4\\epsilon\\left[\\left(\\frac{\\sigma}{r}\\right)^p-\\left(\\frac{\\sigma}{r}\\right)^q\\right]\n",
    "$$\n",
    "加わる力は\n",
    "$$\n",
    "F(r) = -\\frac{d}{dr}U(r) = 4\\epsilon\\left(p\\frac{\\sigma^{p}}{r^{p+1}}-q\\frac{\\sigma^{q}}{r^{q+1}}\\right)\n",
    "$$"
   ]
  },
  {
   "cell_type": "code",
   "execution_count": null,
   "metadata": {},
   "outputs": [],
   "source": [
    "potential(r,ϵ,σ,p=12,q=6)=4ϵ*((σ/r)^p - (σ/r)^q)\n",
    "force(r,ϵ,σ,p=12,q=6)=4ϵ/r*(p*(σ/r)^p - q*(σ/r)^q)"
   ]
  },
  {
   "cell_type": "markdown",
   "metadata": {},
   "source": [
    "## 原子モデル"
   ]
  },
  {
   "cell_type": "code",
   "execution_count": null,
   "metadata": {},
   "outputs": [],
   "source": [
    "mutable struct Atom\n",
    "    x::Float64\n",
    "    v::Float64\n",
    "    m::Float64\n",
    "end"
   ]
  },
  {
   "cell_type": "markdown",
   "metadata": {},
   "source": [
    "### 希ガス分子に対するLennard-Jones パラメータ\n",
    "\n",
    "|  | $\\sigma$[nm] | $\\epsilon$[J] | $\\epsilon/k_{B}$[K] | m [kg] |\n",
    "|:---:|:---:|:---:|:---:| :---:|\n",
    "| Ne | 0.274 | $0.50 \\times 10^{-21}$ | 36.2 |  \n",
    "| Ar | 0.340 | $1.67 \\times 10^{-21}$ | 121 |$6.634 \\times 10^{-26}$|   \n",
    "| Kr | 0.365 | $2.25 \\times 10^{-21}$ | 163 |\n",
    "| Xe | 0.398 | $3.20 \\times 10^{-21}$ | 232 |  "
   ]
  },
  {
   "cell_type": "markdown",
   "metadata": {},
   "source": [
    "### Argonの場合"
   ]
  },
  {
   "cell_type": "code",
   "execution_count": null,
   "metadata": {},
   "outputs": [],
   "source": [
    "ϵ = 1.67\n",
    "σ = 0.34\n",
    "m = 6.63e-3\n",
    "\n",
    "f_ar(r) = force(r,ϵ,σ)"
   ]
  },
  {
   "cell_type": "markdown",
   "metadata": {},
   "source": [
    "# 速度Verlet\n",
    "$$\n",
    "a(t) = \\frac{F(r(t))}{m} \\\\\n",
    "r(t+\\Delta t) = r(t) + v(t)\\Delta t + \\frac{1}{2}a(t)\\Delta t^{2} \\\\\n",
    "v(t+\\Delta t) = v(t) + \\frac{a(t)+a(t+\\Delta t)}{2}\\Delta t\n",
    "$$"
   ]
  },
  {
   "cell_type": "code",
   "execution_count": null,
   "metadata": {},
   "outputs": [],
   "source": [
    "\n",
    "a1 = Atom(0.35,0.0,m)\n",
    "a2 = Atom(-0.35,0.0,m)\n",
    "\n",
    "Δt = 1e-6\n",
    "n = 1e6\n",
    "samp = 1000\n",
    "\n",
    "anim = Animation()\n",
    "for i=0:n\n",
    "    if i%samp == 0\n",
    "        plt = plot([a1.x],[0.0],st=:scatter,xlims=(-0.5,0.5),ylims=(-0.5,0.5),label=\"\")\n",
    "        plot!([a2.x],[0.0],st=:scatter,label=\"\")\n",
    "        frame(anim,plt)\n",
    "    end\n",
    "    acc1 = f_ar(a1.x-a2.x)/a1.m\n",
    "    acc2 = f_ar(a2.x-a1.x)/a2.m\n",
    "    a1.x += a1.v*Δt+acc1*Δt^2/2\n",
    "    a2.x += a2.v*Δt+acc2*Δt^2/2\n",
    "    acc_next1 = f_ar(a1.x-a2.x)/a1.m\n",
    "    acc_next2 = f_ar(a2.x-a1.x)/a2.m\n",
    "    a1.v += (acc1+acc_next1)/2*Δt\n",
    "    a2.v += (acc2+acc_next2)/2*Δt\n",
    "\n",
    "end\n",
    "gif(anim,\"double_LJ.gif\",fps=30)"
   ]
  }
 ],
 "metadata": {
  "kernelspec": {
   "display_name": "Julia 1.10.5",
   "language": "julia",
   "name": "julia-1.10"
  },
  "language_info": {
   "file_extension": ".jl",
   "mimetype": "application/julia",
   "name": "julia",
   "version": "1.10.5"
  }
 },
 "nbformat": 4,
 "nbformat_minor": 2
}
