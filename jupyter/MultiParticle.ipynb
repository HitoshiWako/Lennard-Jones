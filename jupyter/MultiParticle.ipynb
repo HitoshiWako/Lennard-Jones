{
 "cells": [
  {
   "cell_type": "code",
   "execution_count": null,
   "metadata": {},
   "outputs": [],
   "source": [
    "using Revise\n",
    "using Plots\n",
    "using LinearAlgebra"
   ]
  },
  {
   "cell_type": "markdown",
   "metadata": {},
   "source": [
    "# レナードジョーンズポテンシャル\n",
    "$$\n",
    "U(r) = 4\\epsilon\\left[\\left(\\frac{\\sigma}{r}\\right)^p-\\left(\\frac{\\sigma}{r}\\right)^q\\right]\n",
    "$$\n",
    "加わる力は\n",
    "$$\n",
    "F(r) = -\\frac{d}{dr}U(r) = 4\\epsilon\\left(p\\frac{\\sigma^{p}}{r^{p+1}}-q\\frac{\\sigma^{q}}{r^{q+1}}\\right)\n",
    "$$"
   ]
  },
  {
   "cell_type": "code",
   "execution_count": null,
   "metadata": {},
   "outputs": [],
   "source": [
    "potential(r,ϵ,σ,p=12,q=6)=4ϵ*((σ/r)^p - (σ/r)^q)\n",
    "force(r,ϵ,σ,p=12,q=6)=4ϵ/r*(p*(σ/r)^p - q*(σ/r)^q)"
   ]
  },
  {
   "cell_type": "markdown",
   "metadata": {},
   "source": [
    "## 原子モデル"
   ]
  },
  {
   "cell_type": "code",
   "execution_count": null,
   "metadata": {},
   "outputs": [],
   "source": [
    "mutable struct Atom\n",
    "    x::Vector{Float64}\n",
    "    v::Vector{Float64}\n",
    "    m::Float64\n",
    "end"
   ]
  },
  {
   "cell_type": "markdown",
   "metadata": {},
   "source": [
    "### 希ガス分子に対するLennard-Jones パラメータ\n",
    "\n",
    "|  | $\\sigma$[nm] | $\\epsilon$[J] | $\\epsilon/k_{B}$[K] | m [kg] |\n",
    "|:---:|:---:|:---:|:---:| :---:|\n",
    "| Ne | 0.274 | $0.50 \\times 10^{-21}$ | 36.2 |  \n",
    "| Ar | 0.340 | $1.67 \\times 10^{-21}$ | 121 |$6.634 \\times 10^{-26}$|   \n",
    "| Kr | 0.365 | $2.25 \\times 10^{-21}$ | 163 |\n",
    "| Xe | 0.398 | $3.20 \\times 10^{-21}$ | 232 |  "
   ]
  },
  {
   "cell_type": "markdown",
   "metadata": {},
   "source": [
    "### Argonの場合"
   ]
  },
  {
   "cell_type": "code",
   "execution_count": null,
   "metadata": {},
   "outputs": [],
   "source": [
    "ϵ = 1.67\n",
    "σ = 0.34\n",
    "m = 6.63e-3\n",
    "\n",
    "f_ar(r) = force(r,ϵ,σ)"
   ]
  },
  {
   "cell_type": "markdown",
   "metadata": {},
   "source": [
    "# 速度Verlet\n",
    "$$\n",
    "a(t) = \\frac{F(r(t))}{m} \\\\\n",
    "r(t+\\Delta t) = r(t) + v(t)\\Delta t + \\frac{1}{2}a(t)\\Delta t^{2} \\\\\n",
    "v(t+\\Delta t) = v(t) + \\frac{a(t)+a(t+\\Delta t)}{2}\\Delta t\n",
    "$$"
   ]
  },
  {
   "cell_type": "code",
   "execution_count": null,
   "metadata": {},
   "outputs": [],
   "source": [
    "function calc_acc(as,f,rng=(0.1,1.0))\n",
    "    accs=[]\n",
    "    for a1 in as\n",
    "        acc = [0.0,0.0]\n",
    "        for a2 in as\n",
    "            if a1 != a2 && (rng[1]<abs(norm(a1.x-a2.x))<rng[2])\n",
    "                acc += f(norm(a1.x-a2.x))/a1.m*(a1.x-a2.x)/norm(a1.x-a2.x)\n",
    "            end\n",
    "        end\n",
    "        push!(accs,acc)\n",
    "    end\n",
    "    return accs \n",
    "end\n",
    "\n",
    "function update_x!(as,accs,Δt)\n",
    "    for (a, acc) in zip(as,accs)\n",
    "        a.x +=  a.v*Δt + acc*Δt^2/2\n",
    "    end\n",
    "end\n",
    "\n",
    "function update_v!(as,accs,acc_nexts,Δt)\n",
    "    for (a, acc,acc_next) in zip(as,accs,acc_nexts)\n",
    "        a.v +=  (acc+acc_next)*Δt/2\n",
    "    end\n",
    "end"
   ]
  },
  {
   "cell_type": "code",
   "execution_count": null,
   "metadata": {},
   "outputs": [],
   "source": [
    "la = 0.38 # 格子定数\n",
    "cycle = 3\n",
    "as = [Atom([x,y],[0.0,0.0],m) for x=-0.0:la:la*cycle,y=0.0:la:la*cycle]\n",
    "\n",
    "Δt = 1e-6\n",
    "n = 1e6\n",
    "samp = 1000\n",
    "\n",
    "anim = Animation()\n",
    "for i=0:n\n",
    "    if i%samp == 0\n",
    "        xs = [a.x[1] for a in as]\n",
    "        ys = [a.x[2] for a in as]\n",
    "        time = i/samp\n",
    "        plt = plot(xs,ys,st=:scatter,xlims=(-0.2,1.6),ylims=(-0.2,1.6),label=\"\",aspect_ratio=:equal,title=\"$time[ns]\")\n",
    "        frame(anim,plt)\n",
    "    end\n",
    "    accs = calc_acc(as,f_ar)\n",
    "    update_x!(as,accs,Δt)\n",
    "    acc_nexts = calc_acc(as,f_ar)\n",
    "    update_v!(as,accs,acc_nexts,Δt)\n",
    "end\n",
    "gif(anim,\"multiparticles_LJ.gif\",fps=30)"
   ]
  }
 ],
 "metadata": {
  "kernelspec": {
   "display_name": "Julia 1.11.1",
   "language": "julia",
   "name": "julia-1.11"
  },
  "language_info": {
   "file_extension": ".jl",
   "mimetype": "application/julia",
   "name": "julia",
   "version": "1.11.1"
  }
 },
 "nbformat": 4,
 "nbformat_minor": 2
}
